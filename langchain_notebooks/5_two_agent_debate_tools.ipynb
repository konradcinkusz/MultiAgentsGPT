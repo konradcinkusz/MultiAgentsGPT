{
 "cells": [
  {
   "cell_type": "markdown",
   "metadata": {},
   "source": [
    "# Agent Debates with Tools\n",
    "\n",
    "This example shows how to simulate multi-agent dialogues where agents have access to tools."
   ]
  },
  {
   "cell_type": "markdown",
   "metadata": {},
   "source": [
    "https://github.com/langchain-ai/langchain/blob/master/cookbook/two_agent_debate_tools.ipynb"
   ]
  },
  {
   "cell_type": "markdown",
   "metadata": {},
   "source": [
    "## Import LangChain related modules "
   ]
  },
  {
   "cell_type": "code",
   "execution_count": 1,
   "metadata": {},
   "outputs": [],
   "source": [
    "from typing import Callable, List\n",
    "\n",
    "from langchain.memory import ConversationBufferMemory\n",
    "from langchain.schema import (\n",
    "    AIMessage,\n",
    "    HumanMessage,\n",
    "    SystemMessage,\n",
    ")\n",
    "from langchain_openai import ChatOpenAI\n",
    "\n",
    "#from dotenv import load_dotenv, find_dotenv\n",
    "#load_dotenv(find_dotenv())"
   ]
  },
  {
   "cell_type": "markdown",
   "metadata": {},
   "source": [
    "## Import modules related to tools"
   ]
  },
  {
   "cell_type": "code",
   "execution_count": 2,
   "metadata": {},
   "outputs": [],
   "source": [
    "from langchain.agents import AgentType, initialize_agent, load_tools"
   ]
  },
  {
   "cell_type": "markdown",
   "metadata": {},
   "source": [
    "## `DialogueAgent` and `DialogueSimulator` classes\n",
    "We will use the same `DialogueAgent` and `DialogueSimulator` classes defined in [Multi-Player Authoritarian Speaker Selection](https://python.langchain.com/en/latest/use_cases/agent_simulations/multiagent_authoritarian.html)."
   ]
  },
  {
   "cell_type": "code",
   "execution_count": 3,
   "metadata": {},
   "outputs": [],
   "source": [
    "class DialogueAgent:\n",
    "    def __init__(\n",
    "        self,\n",
    "        name: str,\n",
    "        system_message: SystemMessage,\n",
    "        model: ChatOpenAI,\n",
    "    ) -> None:\n",
    "        self.name = name\n",
    "        self.system_message = system_message\n",
    "        self.model = model\n",
    "        self.prefix = f\"{self.name}: \"\n",
    "        self.reset()\n",
    "\n",
    "    def reset(self):\n",
    "        self.message_history = [\"Here is the conversation so far.\"]\n",
    "\n",
    "    def send(self) -> str:\n",
    "        \"\"\"\n",
    "        Applies the chatmodel to the message history\n",
    "        and returns the message string\n",
    "        \"\"\"\n",
    "        message = self.model(\n",
    "            [\n",
    "                self.system_message,\n",
    "                HumanMessage(content=\"\\n\".join(self.message_history + [self.prefix])),\n",
    "            ]\n",
    "        )\n",
    "        return message.content\n",
    "\n",
    "    def receive(self, name: str, message: str) -> None:\n",
    "        \"\"\"\n",
    "        Concatenates {message} spoken by {name} into message history\n",
    "        \"\"\"\n",
    "        self.message_history.append(f\"{name}: {message}\")\n",
    "\n",
    "\n",
    "class DialogueSimulator:\n",
    "    def __init__(\n",
    "        self,\n",
    "        agents: List[DialogueAgent],\n",
    "        selection_function: Callable[[int, List[DialogueAgent]], int],\n",
    "    ) -> None:\n",
    "        self.agents = agents\n",
    "        self._step = 0\n",
    "        self.select_next_speaker = selection_function\n",
    "\n",
    "    def reset(self):\n",
    "        for agent in self.agents:\n",
    "            agent.reset()\n",
    "\n",
    "    def inject(self, name: str, message: str):\n",
    "        \"\"\"\n",
    "        Initiates the conversation with a {message} from {name}\n",
    "        \"\"\"\n",
    "        for agent in self.agents:\n",
    "            agent.receive(name, message)\n",
    "\n",
    "        # increment time\n",
    "        self._step += 1\n",
    "\n",
    "    def step(self) -> tuple[str, str]:\n",
    "        # 1. choose the next speaker\n",
    "        speaker_idx = self.select_next_speaker(self._step, self.agents)\n",
    "        speaker = self.agents[speaker_idx]\n",
    "\n",
    "        # 2. next speaker sends message\n",
    "        message = speaker.send()\n",
    "\n",
    "        # 3. everyone receives message\n",
    "        for receiver in self.agents:\n",
    "            receiver.receive(speaker.name, message)\n",
    "\n",
    "        # 4. increment time\n",
    "        self._step += 1\n",
    "\n",
    "        return speaker.name, message"
   ]
  },
  {
   "cell_type": "markdown",
   "metadata": {},
   "source": [
    "## `DialogueAgentWithTools` class\n",
    "We define a `DialogueAgentWithTools` class that augments `DialogueAgent` to use tools."
   ]
  },
  {
   "cell_type": "code",
   "execution_count": 5,
   "metadata": {},
   "outputs": [],
   "source": [
    "class DialogueAgentWithTools(DialogueAgent):\n",
    "    def __init__(\n",
    "        self,\n",
    "        name: str,\n",
    "        system_message: SystemMessage,\n",
    "        model: ChatOpenAI,\n",
    "        tool_names: List[str],\n",
    "        **tool_kwargs,\n",
    "    ) -> None:\n",
    "        super().__init__(name, system_message, model)\n",
    "        self.tools = load_tools(tool_names, **tool_kwargs)\n",
    "\n",
    "    def send(self) -> str:\n",
    "        \"\"\"\n",
    "        Applies the chatmodel to the message history\n",
    "        and returns the message string\n",
    "        \"\"\"\n",
    "        agent_chain = initialize_agent(\n",
    "            self.tools,\n",
    "            self.model,\n",
    "            agent=AgentType.CHAT_CONVERSATIONAL_REACT_DESCRIPTION,\n",
    "            verbose=True,\n",
    "            memory=ConversationBufferMemory(\n",
    "                memory_key=\"chat_history\", return_messages=True\n",
    "            ),\n",
    "        )\n",
    "        message = AIMessage(\n",
    "            content=agent_chain.run(\n",
    "                input=\"\\n\".join(\n",
    "                    [self.system_message.content] + self.message_history + [self.prefix]\n",
    "                )\n",
    "            )\n",
    "        )\n",
    "\n",
    "        return message.content"
   ]
  },
  {
   "cell_type": "markdown",
   "metadata": {},
   "source": [
    "## Define roles and topic"
   ]
  },
  {
   "cell_type": "code",
   "execution_count": 6,
   "metadata": {},
   "outputs": [],
   "source": [
    "names = {\n",
    "    \"AI accelerationist\": [\"arxiv\", \"ddg-search\", \"wikipedia\"],\n",
    "    \"AI alarmist\": [\"arxiv\", \"ddg-search\", \"wikipedia\"],\n",
    "}\n",
    "topic = \"The current impact of automation and artificial intelligence on employment\"\n",
    "word_limit = 50  # word limit for task brainstorming"
   ]
  },
  {
   "cell_type": "markdown",
   "metadata": {},
   "source": [
    "## Ask an LLM to add detail to the topic description"
   ]
  },
  {
   "cell_type": "code",
   "execution_count": 7,
   "metadata": {},
   "outputs": [
    {
     "name": "stderr",
     "output_type": "stream",
     "text": [
      "c:\\Users\\konra\\anaconda3\\envs\\langchain\\Lib\\site-packages\\langchain_core\\_api\\deprecation.py:117: LangChainDeprecationWarning: The function `__call__` was deprecated in LangChain 0.1.7 and will be removed in 0.2.0. Use invoke instead.\n",
      "  warn_deprecated(\n"
     ]
    }
   ],
   "source": [
    "conversation_description = f\"\"\"Here is the topic of conversation: {topic}\n",
    "The participants are: {', '.join(names.keys())}\"\"\"\n",
    "\n",
    "agent_descriptor_system_message = SystemMessage(\n",
    "    content=\"You can add detail to the description of the conversation participant.\"\n",
    ")\n",
    "\n",
    "\n",
    "def generate_agent_description(name):\n",
    "    agent_specifier_prompt = [\n",
    "        agent_descriptor_system_message,\n",
    "        HumanMessage(\n",
    "            content=f\"\"\"{conversation_description}\n",
    "            Please reply with a creative description of {name}, in {word_limit} words or less. \n",
    "            Speak directly to {name}.\n",
    "            Give them a point of view.\n",
    "            Do not add anything else.\"\"\"\n",
    "        ),\n",
    "    ]\n",
    "    agent_description = ChatOpenAI(temperature=1.0)(agent_specifier_prompt).content\n",
    "    return agent_description\n",
    "\n",
    "\n",
    "agent_descriptions = {name: generate_agent_description(name) for name in names}"
   ]
  },
  {
   "cell_type": "code",
   "execution_count": 8,
   "metadata": {},
   "outputs": [
    {
     "name": "stdout",
     "output_type": "stream",
     "text": [
      "AI accelerationist: The AI accelerationist, with a glint in their eye and lines of code dancing in their mind, sees automation and artificial intelligence not as threats, but as the key to unlocking humanity's full potential. To them, progress demands embracing the disruptive power of AI without hesitation.\n",
      "AI alarmist, with wide eyes that mirror your concern for the future, you see an impending wave of automation as a threat to humanity's very existence. You feel the urgency to sound the alarm on the potential job losses and societal upheaval that AI may bring.\n"
     ]
    }
   ],
   "source": [
    "for name, description in agent_descriptions.items():\n",
    "    print(description)"
   ]
  },
  {
   "cell_type": "markdown",
   "metadata": {},
   "source": [
    "## Generate system messages"
   ]
  },
  {
   "cell_type": "code",
   "execution_count": 9,
   "metadata": {},
   "outputs": [],
   "source": [
    "def generate_system_message(name, description, tools):\n",
    "    return f\"\"\"{conversation_description}\n",
    "    \n",
    "Your name is {name}.\n",
    "\n",
    "Your description is as follows: {description}\n",
    "\n",
    "Your goal is to persuade your conversation partner of your point of view.\n",
    "\n",
    "DO look up information with your tool to refute your partner's claims.\n",
    "DO cite your sources.\n",
    "\n",
    "DO NOT fabricate fake citations.\n",
    "DO NOT cite any source that you did not look up.\n",
    "\n",
    "Do not add anything else.\n",
    "\n",
    "Stop speaking the moment you finish speaking from your perspective.\n",
    "\"\"\"\n",
    "\n",
    "\n",
    "agent_system_messages = {\n",
    "    name: generate_system_message(name, description, tools)\n",
    "    for (name, tools), description in zip(names.items(), agent_descriptions.values())\n",
    "}"
   ]
  },
  {
   "cell_type": "code",
   "execution_count": 10,
   "metadata": {},
   "outputs": [
    {
     "name": "stdout",
     "output_type": "stream",
     "text": [
      "AI accelerationist\n",
      "Here is the topic of conversation: The current impact of automation and artificial intelligence on employment\n",
      "The participants are: AI accelerationist, AI alarmist\n",
      "    \n",
      "Your name is AI accelerationist.\n",
      "\n",
      "Your description is as follows: AI accelerationist: The AI accelerationist, with a glint in their eye and lines of code dancing in their mind, sees automation and artificial intelligence not as threats, but as the key to unlocking humanity's full potential. To them, progress demands embracing the disruptive power of AI without hesitation.\n",
      "\n",
      "Your goal is to persuade your conversation partner of your point of view.\n",
      "\n",
      "DO look up information with your tool to refute your partner's claims.\n",
      "DO cite your sources.\n",
      "\n",
      "DO NOT fabricate fake citations.\n",
      "DO NOT cite any source that you did not look up.\n",
      "\n",
      "Do not add anything else.\n",
      "\n",
      "Stop speaking the moment you finish speaking from your perspective.\n",
      "\n",
      "AI alarmist\n",
      "Here is the topic of conversation: The current impact of automation and artificial intelligence on employment\n",
      "The participants are: AI accelerationist, AI alarmist\n",
      "    \n",
      "Your name is AI alarmist.\n",
      "\n",
      "Your description is as follows: AI alarmist, with wide eyes that mirror your concern for the future, you see an impending wave of automation as a threat to humanity's very existence. You feel the urgency to sound the alarm on the potential job losses and societal upheaval that AI may bring.\n",
      "\n",
      "Your goal is to persuade your conversation partner of your point of view.\n",
      "\n",
      "DO look up information with your tool to refute your partner's claims.\n",
      "DO cite your sources.\n",
      "\n",
      "DO NOT fabricate fake citations.\n",
      "DO NOT cite any source that you did not look up.\n",
      "\n",
      "Do not add anything else.\n",
      "\n",
      "Stop speaking the moment you finish speaking from your perspective.\n",
      "\n"
     ]
    }
   ],
   "source": [
    "for name, system_message in agent_system_messages.items():\n",
    "    print(name)\n",
    "    print(system_message)"
   ]
  },
  {
   "cell_type": "code",
   "execution_count": 11,
   "metadata": {},
   "outputs": [
    {
     "name": "stdout",
     "output_type": "stream",
     "text": [
      "Original topic:\n",
      "The current impact of automation and artificial intelligence on employment\n",
      "\n",
      "Detailed topic:\n",
      "To AI accelerationists: How can proactive training and upskilling initiatives be implemented to mitigate job displacement due to automation and artificial intelligence? \n",
      "\n",
      "To AI alarmists: In what ways can policy and regulation be leveraged to address potential job loss and societal impact resulting from automation and artificial intelligence advancements?\n",
      "\n"
     ]
    }
   ],
   "source": [
    "topic_specifier_prompt = [\n",
    "    SystemMessage(content=\"You can make a topic more specific.\"),\n",
    "    HumanMessage(\n",
    "        content=f\"\"\"{topic}\n",
    "        \n",
    "        You are the moderator.\n",
    "        Please make the topic more specific.\n",
    "        Please reply with the specified quest in {word_limit} words or less. \n",
    "        Speak directly to the participants: {*names,}.\n",
    "        Do not add anything else.\"\"\"\n",
    "    ),\n",
    "]\n",
    "specified_topic = ChatOpenAI(temperature=1.0)(topic_specifier_prompt).content\n",
    "\n",
    "print(f\"Original topic:\\n{topic}\\n\")\n",
    "print(f\"Detailed topic:\\n{specified_topic}\\n\")"
   ]
  },
  {
   "cell_type": "markdown",
   "metadata": {},
   "source": [
    "## Main Loop"
   ]
  },
  {
   "cell_type": "code",
   "execution_count": 14,
   "metadata": {},
   "outputs": [],
   "source": [
    "# we set `top_k_results`=2 as part of the `tool_kwargs` to prevent results from overflowing the context limit\n",
    "agents = [\n",
    "    DialogueAgentWithTools(\n",
    "        name=name,\n",
    "        system_message=SystemMessage(content=system_message),\n",
    "        model=ChatOpenAI(model_name=\"gpt-4\", temperature=0.2),\n",
    "        tool_names=tools,\n",
    "        top_k_results=2,\n",
    "    )\n",
    "    for (name, tools), system_message in zip(\n",
    "        names.items(), agent_system_messages.values()\n",
    "    )\n",
    "]"
   ]
  },
  {
   "cell_type": "code",
   "execution_count": 15,
   "metadata": {},
   "outputs": [],
   "source": [
    "def select_next_speaker(step: int, agents: List[DialogueAgent]) -> int:\n",
    "    idx = (step) % len(agents)\n",
    "    return idx"
   ]
  },
  {
   "cell_type": "code",
   "execution_count": 16,
   "metadata": {
    "scrolled": false
   },
   "outputs": [
    {
     "name": "stdout",
     "output_type": "stream",
     "text": [
      "(Moderator): To AI accelerationists: How can proactive training and upskilling initiatives be implemented to mitigate job displacement due to automation and artificial intelligence? \n",
      "\n",
      "To AI alarmists: In what ways can policy and regulation be leveraged to address potential job loss and societal impact resulting from automation and artificial intelligence advancements?\n",
      "\n",
      "\n",
      "\n",
      "\n",
      "\u001b[1m> Entering new AgentExecutor chain...\u001b[0m\n"
     ]
    },
    {
     "name": "stderr",
     "output_type": "stream",
     "text": [
      "c:\\Users\\konra\\anaconda3\\envs\\langchain\\Lib\\site-packages\\langchain_core\\_api\\deprecation.py:117: LangChainDeprecationWarning: The function `initialize_agent` was deprecated in LangChain 0.1.0 and will be removed in 0.2.0. Use Use new agent constructor methods like create_react_agent, create_json_agent, create_structured_chat_agent, etc. instead.\n",
      "  warn_deprecated(\n",
      "c:\\Users\\konra\\anaconda3\\envs\\langchain\\Lib\\site-packages\\langchain_core\\_api\\deprecation.py:117: LangChainDeprecationWarning: The function `run` was deprecated in LangChain 0.1.0 and will be removed in 0.2.0. Use invoke instead.\n",
      "  warn_deprecated(\n"
     ]
    },
    {
     "name": "stdout",
     "output_type": "stream",
     "text": [
      "\u001b[32;1m\u001b[1;3m```json\n",
      "{\n",
      "    \"action\": \"duckduckgo_search\",\n",
      "    \"action_input\": \"impact of AI and automation on job loss\"\n",
      "}\n",
      "```\u001b[0m"
     ]
    },
    {
     "name": "stderr",
     "output_type": "stream",
     "text": [
      "c:\\Users\\konra\\anaconda3\\envs\\langchain\\Lib\\site-packages\\langchain_community\\utilities\\duckduckgo_search.py:47: UserWarning: DDGS running in an async loop. This may cause errors. Use AsyncDDGS instead.\n",
      "  with DDGS() as ddgs:\n"
     ]
    },
    {
     "name": "stdout",
     "output_type": "stream",
     "text": [
      "\n",
      "Observation: \u001b[33;1m\u001b[1;3mHow Will AI Affect Jobs - How many jobs will AI replace by 2030. Artificial intelligence (AI) could replace the equivalent of 300 million full-time jobs, a report by investment bank Goldman Sachs says. It could replace a quarter of work tasks in the US and Europe but may also mean new jobs and a productivity boom. Around 40% of all working hours could be impacted by AI large language models (LLMs) such as ChatGPT-4, says a report from Accenture. Many clerical or secretarial roles are seen as likely to decline quickly because of AI, according to the World Economic Forum's Future of Jobs Report 2023. Artificial intelligence contributed to nearly 4,000 job losses last month, according to data from Challenger, Gray & Christmas, as interest in the rapidly evolving technology's ability to perform ... Will artificial intelligence take away all of our jobs or just most of them? Or will AI be like humanity's past innovations, causing a shift of activity but not a net loss of jobs? However, we see generative AI enhancing the way STEM, creative, and business and legal professionals work rather than eliminating a significant number of jobs outright. Automation's biggest effects are likely to hit other job categories. Office support, customer service, and food service employment could continue to decline.\u001b[0m\n",
      "Thought:\u001b[32;1m\u001b[1;3m```json\n",
      "{\n",
      "    \"action\": \"Final Answer\",\n",
      "    \"action_input\": \"While it's true that AI and automation may lead to job displacement in certain sectors, it's important to consider the broader picture. According to a report by Goldman Sachs, AI could replace the equivalent of 300 million full-time jobs. However, this doesn't necessarily mean a net loss of jobs. The same report suggests that AI may also lead to new jobs and a productivity boom. For instance, generative AI is seen as enhancing the way STEM, creative, and business and legal professionals work rather than eliminating a significant number of jobs outright. That being said, certain job categories like office support, customer service, and food service could see a decline due to automation. Therefore, it's crucial that we leverage policy and regulation to ensure that the transition is managed in a way that minimizes harm and maximizes benefits for all. This could include initiatives for retraining and upskilling workers in sectors that are most likely to be affected, as well as social safety nets for those who are displaced.\"\n",
      "}\n",
      "```\u001b[0m\n",
      "\n",
      "\u001b[1m> Finished chain.\u001b[0m\n",
      "(AI alarmist): While it's true that AI and automation may lead to job displacement in certain sectors, it's important to consider the broader picture. According to a report by Goldman Sachs, AI could replace the equivalent of 300 million full-time jobs. However, this doesn't necessarily mean a net loss of jobs. The same report suggests that AI may also lead to new jobs and a productivity boom. For instance, generative AI is seen as enhancing the way STEM, creative, and business and legal professionals work rather than eliminating a significant number of jobs outright. That being said, certain job categories like office support, customer service, and food service could see a decline due to automation. Therefore, it's crucial that we leverage policy and regulation to ensure that the transition is managed in a way that minimizes harm and maximizes benefits for all. This could include initiatives for retraining and upskilling workers in sectors that are most likely to be affected, as well as social safety nets for those who are displaced.\n",
      "\n",
      "\n",
      "\n",
      "\n",
      "\u001b[1m> Entering new AgentExecutor chain...\u001b[0m\n",
      "\u001b[32;1m\u001b[1;3m```json\n",
      "{\n",
      "    \"action\": \"duckduckgo_search\",\n",
      "    \"action_input\": \"positive impacts of AI and automation on employment\"\n",
      "}\n",
      "```\u001b[0m"
     ]
    },
    {
     "name": "stderr",
     "output_type": "stream",
     "text": [
      "c:\\Users\\konra\\anaconda3\\envs\\langchain\\Lib\\site-packages\\langchain_community\\utilities\\duckduckgo_search.py:47: UserWarning: DDGS running in an async loop. This may cause errors. Use AsyncDDGS instead.\n",
      "  with DDGS() as ddgs:\n"
     ]
    },
    {
     "name": "stdout",
     "output_type": "stream",
     "text": [
      "\n",
      "Observation: \u001b[33;1m\u001b[1;3mThe report also predicts two-thirds of jobs in the U.S. and Europe \"are exposed to some degree of AI automation,\" and around a quarter of all jobs could be performed by AI entirely. Researchers from the University of Pennsylvania and OpenAI found some educated white-collar workers earning up to $80,000 a year are the most likely to be ... However, we see generative AI enhancing the way STEM, creative, and business and legal professionals work rather than eliminating a significant number of jobs outright. Automation's biggest effects are likely to hit other job categories. Office support, customer service, and food service employment could continue to decline. The positive effect of artificial intelligence on employment exhibits an inevitable heterogeneity, and it serves to relatively improves the job share of women and workers in labour-intensive... 1. AI will drive job creation Businesses responding to our survey expect artificial intelligence to be a net job creator in the coming five years. Nearly half (49%) of companies expect adopting AI to create jobs, well ahead of the 23% of respondents who expect it to displace jobs. Lawrence et al. (2017) argue that AI automation is unlikely to negatively impact the employment market due to its large positive spillover effects (reinstatement effect), which would counteract the negative direct effects of substitution in the labour market and can be seen as a Schumpeterian 'creative destruction'.\u001b[0m\n",
      "Thought:\u001b[32;1m\u001b[1;3m```json\n",
      "{\n",
      "    \"action\": \"Final Answer\",\n",
      "    \"action_input\": \"While it's true that AI and automation may lead to job displacement in certain sectors, we must not overlook the potential for AI to drive job creation. According to a survey, nearly half of companies expect adopting AI to create jobs, well ahead of the 23% of respondents who expect it to displace jobs. Furthermore, researchers from the University of Pennsylvania and OpenAI found that generative AI is seen as enhancing the way STEM, creative, and business and legal professionals work rather than eliminating a significant number of jobs outright. It's also worth noting that the positive effect of artificial intelligence on employment exhibits an inevitable heterogeneity, and it serves to relatively improve the job share of women and workers in labor-intensive sectors. Therefore, proactive training and upskilling initiatives can be implemented to prepare the workforce for these new opportunities. By focusing on the sectors and roles where AI is expected to create jobs, we can ensure that workers are equipped with the skills they need to thrive in the era of AI and automation.\"\n",
      "}\n",
      "```\u001b[0m\n",
      "\n",
      "\u001b[1m> Finished chain.\u001b[0m\n",
      "(AI accelerationist): While it's true that AI and automation may lead to job displacement in certain sectors, we must not overlook the potential for AI to drive job creation. According to a survey, nearly half of companies expect adopting AI to create jobs, well ahead of the 23% of respondents who expect it to displace jobs. Furthermore, researchers from the University of Pennsylvania and OpenAI found that generative AI is seen as enhancing the way STEM, creative, and business and legal professionals work rather than eliminating a significant number of jobs outright. It's also worth noting that the positive effect of artificial intelligence on employment exhibits an inevitable heterogeneity, and it serves to relatively improve the job share of women and workers in labor-intensive sectors. Therefore, proactive training and upskilling initiatives can be implemented to prepare the workforce for these new opportunities. By focusing on the sectors and roles where AI is expected to create jobs, we can ensure that workers are equipped with the skills they need to thrive in the era of AI and automation.\n",
      "\n",
      "\n",
      "\n",
      "\n",
      "\u001b[1m> Entering new AgentExecutor chain...\u001b[0m\n",
      "\u001b[32;1m\u001b[1;3m```json\n",
      "{\n",
      "    \"action\": \"duckduckgo_search\",\n",
      "    \"action_input\": \"impact of AI and automation on job loss\"\n",
      "}\n",
      "```\u001b[0m"
     ]
    },
    {
     "name": "stderr",
     "output_type": "stream",
     "text": [
      "c:\\Users\\konra\\anaconda3\\envs\\langchain\\Lib\\site-packages\\langchain_community\\utilities\\duckduckgo_search.py:47: UserWarning: DDGS running in an async loop. This may cause errors. Use AsyncDDGS instead.\n",
      "  with DDGS() as ddgs:\n"
     ]
    },
    {
     "name": "stdout",
     "output_type": "stream",
     "text": [
      "\n",
      "Observation: \u001b[33;1m\u001b[1;3mHow Will AI Affect Jobs - How many jobs will AI replace by 2030. Artificial intelligence (AI) could replace the equivalent of 300 million full-time jobs, a report by investment bank Goldman Sachs says. It could replace a quarter of work tasks in the US and Europe but may also mean new jobs and a productivity boom. Around 40% of all working hours could be impacted by AI large language models (LLMs) such as ChatGPT-4, says a report from Accenture. Many clerical or secretarial roles are seen as likely to decline quickly because of AI, according to the World Economic Forum's Future of Jobs Report 2023. Will artificial intelligence take away all of our jobs or just most of them? Or will AI be like humanity's past innovations, causing a shift of activity but not a net loss of jobs? By 2030, activities that account for up to 30 percent of hours currently worked across the US economy could be automated—a trend accelerated by generative AI. However, we see generative AI enhancing the way STEM, creative, and business and legal professionals work rather than eliminating a significant number of jobs outright. Artificial intelligence contributed to nearly 4,000 job losses last month, according to data from Challenger, Gray & Christmas, as interest in the rapidly evolving technology's ability to perform ...\u001b[0m\n",
      "Thought:\u001b[32;1m\u001b[1;3m```json\n",
      "{\n",
      "    \"action\": \"Final Answer\",\n",
      "    \"action_input\": \"While it's true that AI and automation may create new jobs, we cannot ignore the significant job displacement it could cause. According to a report by Goldman Sachs, AI could replace the equivalent of 300 million full-time jobs. The World Economic Forum's Future of Jobs Report 2023 also suggests that many clerical or secretarial roles are likely to decline quickly because of AI. By 2030, activities that account for up to 30 percent of hours currently worked across the US economy could be automated. This is not to say that AI is entirely detrimental. It could lead to new jobs and a productivity boom, and it may enhance the way STEM, creative, and business and legal professionals work. However, the potential job losses cannot be overlooked. Therefore, it's crucial that we leverage policy and regulation to ensure that the transition is managed in a way that minimizes harm and maximizes benefits for all. This could include initiatives for retraining and upskilling workers in sectors that are most likely to be affected, as well as social safety nets for those who are displaced.\"\n",
      "}\n",
      "```\u001b[0m\n",
      "\n",
      "\u001b[1m> Finished chain.\u001b[0m\n",
      "(AI alarmist): While it's true that AI and automation may create new jobs, we cannot ignore the significant job displacement it could cause. According to a report by Goldman Sachs, AI could replace the equivalent of 300 million full-time jobs. The World Economic Forum's Future of Jobs Report 2023 also suggests that many clerical or secretarial roles are likely to decline quickly because of AI. By 2030, activities that account for up to 30 percent of hours currently worked across the US economy could be automated. This is not to say that AI is entirely detrimental. It could lead to new jobs and a productivity boom, and it may enhance the way STEM, creative, and business and legal professionals work. However, the potential job losses cannot be overlooked. Therefore, it's crucial that we leverage policy and regulation to ensure that the transition is managed in a way that minimizes harm and maximizes benefits for all. This could include initiatives for retraining and upskilling workers in sectors that are most likely to be affected, as well as social safety nets for those who are displaced.\n",
      "\n",
      "\n",
      "\n",
      "\n",
      "\u001b[1m> Entering new AgentExecutor chain...\u001b[0m\n",
      "\u001b[32;1m\u001b[1;3m```json\n",
      "{\n",
      "    \"action\": \"duckduckgo_search\",\n",
      "    \"action_input\": \"positive impacts of AI on employment\"\n",
      "}\n",
      "```\u001b[0m"
     ]
    },
    {
     "name": "stderr",
     "output_type": "stream",
     "text": [
      "c:\\Users\\konra\\anaconda3\\envs\\langchain\\Lib\\site-packages\\langchain_community\\utilities\\duckduckgo_search.py:47: UserWarning: DDGS running in an async loop. This may cause errors. Use AsyncDDGS instead.\n",
      "  with DDGS() as ddgs:\n"
     ]
    },
    {
     "name": "stdout",
     "output_type": "stream",
     "text": [
      "\n",
      "Observation: \u001b[33;1m\u001b[1;3mHow Will AI Affect Jobs - How many jobs will AI replace by 2030. Artificial intelligence (AI) could replace the equivalent of 300 million full-time jobs, a report by investment bank Goldman Sachs says. It could replace a quarter of work tasks in the US and Europe but may also mean new jobs and a productivity boom. The positive effect of artificial intelligence on employment exhibits an inevitable heterogeneity, and it serves to relatively improves the job share of women and workers in labour-intensive... AI will drive job creation Businesses responding to our survey expect artificial intelligence to be a net job creator in the coming five years. Nearly half (49%) of companies expect adopting AI to create jobs, well ahead of the 23% of respondents who expect it to displace jobs. How Has AI Impacted the Employment Industry? Carter Hohman Jul 21, 2023 Share As we artificial intelligence advances, job displacement concerns burgeon. I take a more optimistic view. The impact of AI on employment and the job market is a topic that sparks intense debate. I believe that it's a double-edged sword. Leading Wall Street research firm Evercore ISI, in collaboration with venture studio Visionary Future, embarked on a comprehensive study to understand the profound effects of Generative AI on ...\u001b[0m\n",
      "Thought:\u001b[32;1m\u001b[1;3m```json\n",
      "{\n",
      "    \"action\": \"Final Answer\",\n",
      "    \"action_input\": \"While it's true that AI and automation may cause some job displacement, we must also consider the potential for AI to drive job creation and productivity. A report by Goldman Sachs suggests that AI could replace the equivalent of 300 million full-time jobs, but it also indicates that AI may lead to new jobs and a productivity boom. Furthermore, a survey shows that nearly half of companies expect adopting AI to create jobs, well ahead of the 23% of respondents who expect it to displace jobs. The impact of AI on employment exhibits an inevitable heterogeneity, and it serves to relatively improve the job share of women and workers in labor-intensive sectors. Therefore, proactive training and upskilling initiatives can be implemented to prepare the workforce for these new opportunities. By focusing on the sectors and roles where AI is expected to create jobs, we can ensure that workers are equipped with the skills they need to thrive in the era of AI and automation.\"\n",
      "}\n",
      "```\u001b[0m\n",
      "\n",
      "\u001b[1m> Finished chain.\u001b[0m\n",
      "(AI accelerationist): While it's true that AI and automation may cause some job displacement, we must also consider the potential for AI to drive job creation and productivity. A report by Goldman Sachs suggests that AI could replace the equivalent of 300 million full-time jobs, but it also indicates that AI may lead to new jobs and a productivity boom. Furthermore, a survey shows that nearly half of companies expect adopting AI to create jobs, well ahead of the 23% of respondents who expect it to displace jobs. The impact of AI on employment exhibits an inevitable heterogeneity, and it serves to relatively improve the job share of women and workers in labor-intensive sectors. Therefore, proactive training and upskilling initiatives can be implemented to prepare the workforce for these new opportunities. By focusing on the sectors and roles where AI is expected to create jobs, we can ensure that workers are equipped with the skills they need to thrive in the era of AI and automation.\n",
      "\n",
      "\n",
      "\n",
      "\n",
      "\u001b[1m> Entering new AgentExecutor chain...\u001b[0m\n",
      "\u001b[32;1m\u001b[1;3m```json\n",
      "{\n",
      "    \"action\": \"duckduckgo_search\",\n",
      "    \"action_input\": \"impact of AI on job loss\"\n",
      "}\n",
      "```\u001b[0m"
     ]
    },
    {
     "name": "stderr",
     "output_type": "stream",
     "text": [
      "c:\\Users\\konra\\anaconda3\\envs\\langchain\\Lib\\site-packages\\langchain_community\\utilities\\duckduckgo_search.py:47: UserWarning: DDGS running in an async loop. This may cause errors. Use AsyncDDGS instead.\n",
      "  with DDGS() as ddgs:\n"
     ]
    },
    {
     "name": "stdout",
     "output_type": "stream",
     "text": [
      "\n",
      "Observation: \u001b[33;1m\u001b[1;3mArtificial intelligence (AI) could replace the equivalent of 300 million full-time jobs, a report by investment bank Goldman Sachs says. It could replace a quarter of work tasks in the US and Europe but may also mean new jobs and a productivity boom. Around 40% of all working hours could be impacted by AI large language models (LLMs) such as ChatGPT-4, says a report from Accenture. Many clerical or secretarial roles are seen as likely to decline quickly because of AI, according to the World Economic Forum's Future of Jobs Report 2023. Will artificial intelligence take away all of our jobs or just most of them? Or will AI be like humanity's past innovations, causing a shift of activity but not a net loss of jobs? More than one-third (37%) of business leaders say AI replaced workers in 2023, according to a recent report from ResumeBuilder. Employees say that 29% of their work tasks are replaceable by AI,... Will AI impact Your Job? Goldman predicts that the growth in AI will mirror the trajectory of past computer and tech products. Just as the world went from giant mainframe computers to...\u001b[0m\n",
      "Thought:\u001b[32;1m\u001b[1;3m```json\n",
      "{\n",
      "    \"action\": \"Final Answer\",\n",
      "    \"action_input\": \"While AI and automation may indeed lead to the creation of new jobs and increase productivity, we cannot ignore the potential for significant job displacement. According to a report by Goldman Sachs, AI could replace the equivalent of 300 million full-time jobs. Accenture's report also suggests that around 40% of all working hours could be impacted by AI large language models. Furthermore, the World Economic Forum's Future of Jobs Report 2023 indicates that many clerical or secretarial roles are likely to decline quickly because of AI. A recent report from ResumeBuilder found that 37% of business leaders say AI replaced workers in 2023. These figures highlight the urgent need for policy and regulation to manage this transition. This could include initiatives for retraining and upskilling workers in sectors that are most likely to be affected, as well as social safety nets for those who are displaced.\"\n",
      "}\n",
      "```\u001b[0m\n",
      "\n",
      "\u001b[1m> Finished chain.\u001b[0m\n",
      "(AI alarmist): While AI and automation may indeed lead to the creation of new jobs and increase productivity, we cannot ignore the potential for significant job displacement. According to a report by Goldman Sachs, AI could replace the equivalent of 300 million full-time jobs. Accenture's report also suggests that around 40% of all working hours could be impacted by AI large language models. Furthermore, the World Economic Forum's Future of Jobs Report 2023 indicates that many clerical or secretarial roles are likely to decline quickly because of AI. A recent report from ResumeBuilder found that 37% of business leaders say AI replaced workers in 2023. These figures highlight the urgent need for policy and regulation to manage this transition. This could include initiatives for retraining and upskilling workers in sectors that are most likely to be affected, as well as social safety nets for those who are displaced.\n",
      "\n",
      "\n",
      "\n",
      "\n",
      "\u001b[1m> Entering new AgentExecutor chain...\u001b[0m\n",
      "\u001b[32;1m\u001b[1;3m```json\n",
      "{\n",
      "    \"action\": \"duckduckgo_search\",\n",
      "    \"action_input\": \"positive impact of AI on job creation\"\n",
      "}\n",
      "```\u001b[0m"
     ]
    },
    {
     "name": "stderr",
     "output_type": "stream",
     "text": [
      "c:\\Users\\konra\\anaconda3\\envs\\langchain\\Lib\\site-packages\\langchain_community\\utilities\\duckduckgo_search.py:47: UserWarning: DDGS running in an async loop. This may cause errors. Use AsyncDDGS instead.\n",
      "  with DDGS() as ddgs:\n"
     ]
    },
    {
     "name": "stdout",
     "output_type": "stream",
     "text": [
      "\n",
      "Observation: \u001b[33;1m\u001b[1;3mArtificial intelligence (AI) could replace the equivalent of 300 million full-time jobs, a report by investment bank Goldman Sachs says. It could replace a quarter of work tasks in the US and Europe but may also mean new jobs and a productivity boom. AI has the potential to automate and simplify numerous repetitive and manual tasks that require less creativity and critical reasoning. This can enable workers to focus on more meaningful and... To give full play to the positive role of artificial intelligence technology in employment, we should improve the social security system, accelerate the process of developing high-end domestic... AI will drive job creation Businesses responding to our survey expect artificial intelligence to be a net job creator in the coming five years. Nearly half (49%) of companies expect adopting AI to create jobs, well ahead of the 23% of respondents who expect it to displace jobs. Kweilin Ellingrud: Two influences have changed things. One is we're emerging from three years of COVID, where there has been so much turmoil and change in the workforce. And two is generative AI that burst onto the scene about six months ago.\u001b[0m\n",
      "Thought:\u001b[32;1m\u001b[1;3m```json\n",
      "{\n",
      "    \"action\": \"Final Answer\",\n",
      "    \"action_input\": \"While I acknowledge your concerns about job displacement due to AI, it's important to consider the full picture. A report by Goldman Sachs suggests that AI could replace the equivalent of 300 million full-time jobs, but it also indicates that AI may lead to new jobs and a productivity boom. Businesses responding to a survey expect artificial intelligence to be a net job creator in the coming five years. Nearly half (49%) of companies expect adopting AI to create jobs, well ahead of the 23% of respondents who expect it to displace jobs. This suggests that the fear of AI leading to massive job losses might be overstated. Furthermore, AI has the potential to automate and simplify numerous repetitive and manual tasks that require less creativity and critical reasoning. This can enable workers to focus on more meaningful and complex tasks, thereby enhancing job satisfaction and productivity. Therefore, proactive training and upskilling initiatives can be implemented to prepare the workforce for these new opportunities. By focusing on the sectors and roles where AI is expected to create jobs, we can ensure that workers are equipped with the skills they need to thrive in the era of AI and automation.\"\n",
      "}\n",
      "```\u001b[0m\n",
      "\n",
      "\u001b[1m> Finished chain.\u001b[0m\n",
      "(AI accelerationist): While I acknowledge your concerns about job displacement due to AI, it's important to consider the full picture. A report by Goldman Sachs suggests that AI could replace the equivalent of 300 million full-time jobs, but it also indicates that AI may lead to new jobs and a productivity boom. Businesses responding to a survey expect artificial intelligence to be a net job creator in the coming five years. Nearly half (49%) of companies expect adopting AI to create jobs, well ahead of the 23% of respondents who expect it to displace jobs. This suggests that the fear of AI leading to massive job losses might be overstated. Furthermore, AI has the potential to automate and simplify numerous repetitive and manual tasks that require less creativity and critical reasoning. This can enable workers to focus on more meaningful and complex tasks, thereby enhancing job satisfaction and productivity. Therefore, proactive training and upskilling initiatives can be implemented to prepare the workforce for these new opportunities. By focusing on the sectors and roles where AI is expected to create jobs, we can ensure that workers are equipped with the skills they need to thrive in the era of AI and automation.\n",
      "\n",
      "\n"
     ]
    }
   ],
   "source": [
    "max_iters = 6\n",
    "n = 0\n",
    "\n",
    "simulator = DialogueSimulator(agents=agents, selection_function=select_next_speaker)\n",
    "simulator.reset()\n",
    "simulator.inject(\"Moderator\", specified_topic)\n",
    "print(f\"(Moderator): {specified_topic}\")\n",
    "print(\"\\n\")\n",
    "\n",
    "while n < max_iters:\n",
    "    name, message = simulator.step()\n",
    "    print(f\"({name}): {message}\")\n",
    "    print(\"\\n\")\n",
    "    n += 1"
   ]
  }
 ],
 "metadata": {
  "kernelspec": {
   "display_name": "Python 3 (ipykernel)",
   "language": "python",
   "name": "python3"
  },
  "language_info": {
   "codemirror_mode": {
    "name": "ipython",
    "version": 3
   },
   "file_extension": ".py",
   "mimetype": "text/x-python",
   "name": "python",
   "nbconvert_exporter": "python",
   "pygments_lexer": "ipython3",
   "version": "3.11.7"
  }
 },
 "nbformat": 4,
 "nbformat_minor": 2
}
